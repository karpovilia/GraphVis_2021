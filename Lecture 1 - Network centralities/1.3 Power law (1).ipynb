{
 "cells": [
  {
   "cell_type": "markdown",
   "metadata": {},
   "source": [
    "In this lab the VKontakte network was analyzed and a power law fitting model was constructed.\n",
    "\n",
    "First of all the graph should be loaded and some of the descriptive statistics for the network computed."
   ]
  },
  {
   "cell_type": "code",
   "execution_count": 1,
   "metadata": {},
   "outputs": [],
   "source": [
    "import urllib\n",
    "import networkx as nx\n",
    "import matplotlib.pyplot as plt\n",
    "import numpy as np\n",
    "%matplotlib inline\n",
    "\n",
    "url = \"https://dl.dropboxusercontent.com/s/q9geru5vtmz5b55/vk.adjlist?dl=1\"\n",
    "with urllib.request.urlopen(url) as f:\n",
    "    data = f.read().decode('utf-8')\n",
    "with open('vk.adjlist', 'w') as f:\n",
    "    f.write(data) \n",
    "    \n",
    "G = nx.read_adjlist('vk.adjlist')"
   ]
  },
  {
   "cell_type": "code",
   "execution_count": 2,
   "metadata": {},
   "outputs": [
    {
     "name": "stdout",
     "output_type": "stream",
     "text": [
      "Number of vertices: 2113\n",
      "Number of edges: 25737\n",
      "Number of connected components 1\n"
     ]
    }
   ],
   "source": [
    "print('Number of vertices:', G.number_of_nodes())\n",
    "print('Number of edges:', G.number_of_edges())\n",
    "print('Number of connected components', nx.number_connected_components(G))"
   ]
  },
  {
   "cell_type": "markdown",
   "metadata": {},
   "source": [
    "Now let's compute and visualize degree distribution of the network:"
   ]
  },
  {
   "cell_type": "code",
   "execution_count": 3,
   "metadata": {},
   "outputs": [
    {
     "data": {
      "image/png": "[encoded data removed]",
      "text/plain": [
       "<Figure size 432x288 with 1 Axes>"
      ]
     },
     "metadata": {
      "needs_background": "light"
     },
     "output_type": "display_data"
    }
   ],
   "source": [
    "degrees_dictionary = dict(G.degree())\n",
    "degrees = np.array(list(dict(G.degree()).values()))\n",
    "\n",
    "# show node degrees\n",
    "plt.xlabel('Degree')\n",
    "plt.ylabel('Number')\n",
    "plt.hist(degrees, 100)\n",
    "plt.show()"
   ]
  },
  {
   "cell_type": "markdown",
   "metadata": {},
   "source": [
    "Given the histogram above one can make a conclusion that the network satisfies Power Law."
   ]
  },
  {
   "cell_type": "markdown",
   "metadata": {},
   "source": [
    "To compute radius, diameter and the shortest path distribution of the graph it seems pointless to use the whole original graph because of its big size (in fact we couldn't use the original graph to compute the radius and the diameter because there are 10 connected components, so the graph itself is not connected).\n",
    "\n",
    "To compute the shortest path distribution one need to obtain a represatative sample from the original network. To get a sample I generated a set of random indices within the largest connected components and then picked out corresponding nodes to the subgraph."
   ]
  },
  {
   "cell_type": "code",
   "execution_count": 4,
   "metadata": {},
   "outputs": [
    {
     "data": {
      "image/png": "[encoded data removed]",
      "text/plain": [
       "<Figure size 432x288 with 1 Axes>"
      ]
     },
     "metadata": {
      "needs_background": "light"
     },
     "output_type": "display_data"
    }
   ],
   "source": [
    "CC = sorted(nx.connected_components(G), key = len, reverse=True)\n",
    "\n",
    "import random\n",
    "cc0 = np.array(list(CC[0]))\n",
    "subG = G.subgraph(np.random.choice(cc0, 1000))\n",
    "\n",
    "shortest_paths = nx.shortest_path(subG)\n",
    "lengths = []\n",
    "for target, paths in shortest_paths.items():\n",
    "    for k, value in paths.items():\n",
    "        lengths.append(len(value))\n",
    "\n",
    "plt.hist(lengths, 10)\n",
    "plt.show()"
   ]
  },
  {
   "cell_type": "markdown",
   "metadata": {},
   "source": [
    "Now let's compute max and mean degrees in the graph (since graph is undirected in-degrees and out-degrees coincide)."
   ]
  },
  {
   "cell_type": "code",
   "execution_count": 50,
   "metadata": {},
   "outputs": [
    {
     "name": "stdout",
     "output_type": "stream",
     "text": [
      "Max degree: 465\n",
      "Mean degree 24.36062470421202\n"
     ]
    }
   ],
   "source": [
    "print('Max degree:', max(degrees))\n",
    "print('Mean degree', np.mean(degrees))"
   ]
  },
  {
   "cell_type": "markdown",
   "metadata": {},
   "source": [
    "And now it's time to estimate the value of $\\alpha$ and error $\\sigma ^2$(via Maximum Likelihood)\n",
    "\n",
    "First of all let's look at the initial data. The graph below clearly indicates that there's no linear model to fit all the data. But starting from some degree data seems to follow linear pattern good enough. Following lectures I'll call the minimum degree for which data can be approximate by linear function $x_{min}$"
   ]
  },
  {
   "cell_type": "code",
   "execution_count": 5,
   "metadata": {},
   "outputs": [
    {
     "data": {
      "image/png": "[encoded data removed]",
      "text/plain": [
       "<Figure size 432x288 with 1 Axes>"
      ]
     },
     "metadata": {
      "needs_background": "light"
     },
     "output_type": "display_data"
    }
   ],
   "source": [
    "from collections import Counter\n",
    "d = Counter(degrees)\n",
    "plt.xlabel('degrees')\n",
    "plt.ylabel('nodes')\n",
    "plt.loglog(list(d.keys()), list(d.values()), '.', lw=2)\n",
    "plt.show()"
   ]
  },
  {
   "cell_type": "markdown",
   "metadata": {},
   "source": [
    "From the graph above one can obtain a rough value of the $x_{min}$, which is slightly more than 100.\n",
    "To compute $\\alpha$ and $\\sigma^2$:\n",
    "\n",
    "$\\alpha = 1 + n (\\sum ln( \\frac{x_i}{x_{min}}))^{-1}$\n",
    "\n",
    "$\\sigma ^2 = \\frac{\\alpha - 1}{\\sqrt{n}}$"
   ]
  },
  {
   "cell_type": "code",
   "execution_count": 24,
   "metadata": {},
   "outputs": [
    {
     "name": "stdout",
     "output_type": "stream",
     "text": [
      "Estimated alpha: 2.167241161087035\n",
      "and sigma squared: 0.03854569903371337\n"
     ]
    }
   ],
   "source": [
    "x_min = 15.0\n",
    "            \n",
    "new_degrees = []\n",
    "for degree in degrees:\n",
    "    if degree >= x_min:\n",
    "        new_degrees.append(degree)\n",
    "\n",
    "n = len(new_degrees) + 0.0\n",
    "\n",
    "alpha = 0.0\n",
    "for degree in new_degrees:\n",
    "    alpha = alpha + (np.log(degree / x_min))\n",
    "\n",
    "alpha = 1 + n / alpha\n",
    "\n",
    "alpha = get_alpha(x_min)\n",
    "sigma = (alpha - 1) / np.sqrt(n)\n",
    "\n",
    "print('Estimated alpha:', alpha)\n",
    "print('and sigma squared:', sigma)"
   ]
  },
  {
   "cell_type": "code",
   "execution_count": 25,
   "metadata": {},
   "outputs": [
    {
     "data": {
      "image/png": "[encoded data removed]",
      "text/plain": [
       "<Figure size 432x288 with 1 Axes>"
      ]
     },
     "metadata": {
      "needs_background": "light"
     },
     "output_type": "display_data"
    }
   ],
   "source": [
    "c = Counter(new_degrees)\n",
    "\n",
    "C = (alpha - 1) * (x_min ** (alpha - 1))\n",
    "\n",
    "def f(x):\n",
    "    return C * (x ** (-alpha)) * n\n",
    "x = np.arange(x_min, max(degrees), 1)\n",
    "\n",
    "data, = plt.loglog(list(d.keys()), list(d.values()), '.', lw=2, label = 'Data')\n",
    "fit,  = plt.loglog(x, f(x), 'm', label = 'Linear fit')\n",
    "plt.xlabel('degrees')\n",
    "plt.ylabel('nodes')\n",
    "plt.legend(handles = [data, fit])\n",
    "plt.show()"
   ]
  },
  {
   "cell_type": "code",
   "execution_count": 39,
   "metadata": {},
   "outputs": [],
   "source": [
    "def get_alpha(x_min):\n",
    "    new_degrees = []\n",
    "    for degree in degrees:\n",
    "        if degree >= x_min:\n",
    "            new_degrees.append(degree)\n",
    "\n",
    "    n = len(new_degrees) + 0.0\n",
    "    \n",
    "    alpha = 0.0\n",
    "    for degree in new_degrees:\n",
    "        alpha = alpha + (np.log(degree / x_min))\n",
    "\n",
    "    alpha = 1 + n / alpha\n",
    "    \n",
    "    return alpha"
   ]
  },
  {
   "cell_type": "markdown",
   "metadata": {},
   "source": [
    "Now it's time to estimate minimum degree using Kolmogorov-Smirnov test"
   ]
  },
  {
   "cell_type": "code",
   "execution_count": 40,
   "metadata": {},
   "outputs": [],
   "source": [
    "# define functions to compute model and experimental CDFs\n",
    "\n",
    "# to remind of one variable I calculated previously: d = Counter(degrees)\n",
    "d_dict = dict(d)\n",
    "\n",
    "def f_exp(x, x_min):\n",
    "    result = 0.0\n",
    "    N = 0.0\n",
    "    for degree, nodes in d_dict.items():\n",
    "        if degree >= x_min:\n",
    "            N += nodes\n",
    "            if degree <= x:\n",
    "                result += nodes\n",
    "    return result / N\n",
    "\n",
    "\n",
    "def f_model(x, x_min, alpha):\n",
    "    return 1 - (x / x_min) ** (1 - alpha)"
   ]
  },
  {
   "cell_type": "code",
   "execution_count": 41,
   "metadata": {},
   "outputs": [
    {
     "name": "stderr",
     "output_type": "stream",
     "text": [
      "/home/user/msTest/venv_jupyterhab/lib/python3.6/site-packages/ipykernel_launcher.py:13: RuntimeWarning: divide by zero encountered in double_scalars\n",
      "  del sys.path[0]\n"
     ]
    }
   ],
   "source": [
    "# this is for plot D(x_min)\n",
    "D_cords = dict()\n",
    "\n",
    "def calculate_D(x_min):\n",
    "    array = []\n",
    "    alpha = get_alpha(x_min)\n",
    "    for degree in d_dict.keys():\n",
    "        if degree >= x_min:\n",
    "            result = np.abs(f_model(degree, x_min, alpha) - f_exp(degree, x_min))\n",
    "            array.append(result)\n",
    "            D_cords[x_min] = result\n",
    "    return max(array)\n",
    "\n",
    "temp = dict()\n",
    "for degree in d_dict.keys():\n",
    "        temp[degree] = calculate_D(degree + 0.0)"
   ]
  },
  {
   "cell_type": "markdown",
   "metadata": {},
   "source": [
    "$x^*_{min} = argmin_{x_{min}}D$"
   ]
  },
  {
   "cell_type": "code",
   "execution_count": 42,
   "metadata": {},
   "outputs": [
    {
     "name": "stdout",
     "output_type": "stream",
     "text": [
      "19.0\n"
     ]
    }
   ],
   "source": [
    "real_x_min = min(temp,key=temp.get) + 0.0\n",
    "print(real_x_min)\n",
    "\n",
    "real_alpha = get_alpha(real_x_min)\n",
    "real_C = (real_alpha - 1) * (real_x_min ** (real_alpha - 1))"
   ]
  },
  {
   "cell_type": "markdown",
   "metadata": {},
   "source": [
    "PDF and CDF for obtained parameters:"
   ]
  },
  {
   "cell_type": "code",
   "execution_count": 43,
   "metadata": {},
   "outputs": [
    {
     "data": {
      "image/png": "[encoded data removed]",
      "text/plain": [
       "<Figure size 432x288 with 1 Axes>"
      ]
     },
     "metadata": {
      "needs_background": "light"
     },
     "output_type": "display_data"
    }
   ],
   "source": [
    "def pdf(x):\n",
    "    return real_C * x ** (-real_alpha)\n",
    "x = np.arange(real_x_min, max(degrees), 1)\n",
    "\n",
    "plt.xlabel('degrees')\n",
    "plt.ylabel('pdf')\n",
    "plt.plot(x, pdf(x), 'm', label = 'PDF')\n",
    "plt.show()"
   ]
  },
  {
   "cell_type": "code",
   "execution_count": 44,
   "metadata": {},
   "outputs": [
    {
     "data": {
      "image/png": "[encoded data removed]",
      "text/plain": [
       "<Figure size 432x288 with 1 Axes>"
      ]
     },
     "metadata": {
      "needs_background": "light"
     },
     "output_type": "display_data"
    }
   ],
   "source": [
    "def cdf(x):\n",
    "    return 1 - (x / real_x_min) ** (1 - real_alpha)\n",
    "\n",
    "model, = plt.plot(x, cdf(x), 'b', label = 'Model')\n",
    "y = []\n",
    "for point in x:\n",
    "    y.append(f_exp(point, real_x_min))\n",
    "data,  = plt.step(x, y, 'm', label = 'Data')\n",
    "plt.xlabel('degrees')\n",
    "plt.ylabel('cdf')\n",
    "plt.legend(handles = [model, data])\n",
    "plt.show()"
   ]
  }
 ],
 "metadata": {
  "kernelspec": {
   "display_name": "Python 3",
   "language": "python",
   "name": "python3"
  },
  "language_info": {
   "codemirror_mode": {
    "name": "ipython",
    "version": 3
   },
   "file_extension": ".py",
   "mimetype": "text/x-python",
   "name": "python",
   "nbconvert_exporter": "python",
   "pygments_lexer": "ipython3",
   "version": "3.6.8"
  }
 },
 "nbformat": 4,
 "nbformat_minor": 2
}
