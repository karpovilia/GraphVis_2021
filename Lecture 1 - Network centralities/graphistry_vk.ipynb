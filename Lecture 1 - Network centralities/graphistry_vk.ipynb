{
 "cells": [
  {
   "cell_type": "markdown",
   "metadata": {},
   "source": [
    "# Tutorial: Data Analysis in Graphistry\n",
    "\n",
    "1. Load data\n",
    "2. Plot: \n",
    "  - Simple: input is a list of edges\n",
    "  - Arbitrary: input is a table (_hypergraph_ transform)\n",
    "3. Advanced bindings\n",
    "4. Further docs\n",
    "  - [UI Guide](https://labs.graphistry.com/graphistry/ui.html)\n",
    "  - [More demos: database connectors, ...](demos_databases_apis)\n",
    "  - [CSV upload notebook app](upload_csv_miniapp.ipynb)"
   ]
  },
  {
   "cell_type": "code",
   "execution_count": 5,
   "metadata": {},
   "outputs": [],
   "source": [
    "import graphistry\n",
    "graphistry.register(key='3bd0ff5a5304a3ee27de2ca78ac7b67bbc48dc67409c255c0f70250955cf967c')\n"
   ]
  },
  {
   "cell_type": "markdown",
   "metadata": {},
   "source": [
    "## 1. Load CSV\n",
    "Graphistry works seamlessly with Pandas dataframes"
   ]
  },
  {
   "cell_type": "code",
   "execution_count": 8,
   "metadata": {},
   "outputs": [
    {
     "data": {
      "text/html": [
       "<div>\n",
       "<style scoped>\n",
       "    .dataframe tbody tr th:only-of-type {\n",
       "        vertical-align: middle;\n",
       "    }\n",
       "\n",
       "    .dataframe tbody tr th {\n",
       "        vertical-align: top;\n",
       "    }\n",
       "\n",
       "    .dataframe thead th {\n",
       "        text-align: right;\n",
       "    }\n",
       "</style>\n",
       "<table border=\"1\" class=\"dataframe\">\n",
       "  <thead>\n",
       "    <tr style=\"text-align: right;\">\n",
       "      <th></th>\n",
       "      <th>Friends</th>\n",
       "      <th>ID</th>\n",
       "      <th>Name</th>\n",
       "      <th>_id</th>\n",
       "    </tr>\n",
       "  </thead>\n",
       "  <tbody>\n",
       "    <tr>\n",
       "      <th>27226</th>\n",
       "      <td>VK_1121875</td>\n",
       "      <td>VK_21737084</td>\n",
       "      <td>Никита Цыплаков</td>\n",
       "      <td>5e998ed79bc8b30009911150</td>\n",
       "    </tr>\n",
       "    <tr>\n",
       "      <th>345791</th>\n",
       "      <td>VK_48383106</td>\n",
       "      <td>VK_11047376</td>\n",
       "      <td>Алексей Суторшин</td>\n",
       "      <td>5e998f38cd38b40008a1a62e</td>\n",
       "    </tr>\n",
       "    <tr>\n",
       "      <th>368026</th>\n",
       "      <td>VK_134215874</td>\n",
       "      <td>VK_35689226</td>\n",
       "      <td>Оля Корогодина</td>\n",
       "      <td>5e998f41353564000819b0cb</td>\n",
       "    </tr>\n",
       "  </tbody>\n",
       "</table>\n",
       "</div>"
      ],
      "text/plain": [
       "             Friends           ID              Name                       _id\n",
       "27226     VK_1121875  VK_21737084   Никита Цыплаков  5e998ed79bc8b30009911150\n",
       "345791   VK_48383106  VK_11047376  Алексей Суторшин  5e998f38cd38b40008a1a62e\n",
       "368026  VK_134215874  VK_35689226    Оля Корогодина  5e998f41353564000819b0cb"
      ]
     },
     "execution_count": 8,
     "metadata": {},
     "output_type": "execute_result"
    }
   ],
   "source": [
    "import urllib\n",
    "with urllib.request.urlopen(\"https://dl.dropboxusercontent.com/s/9zmm0euo1f03s4i/honeypot.csv?dl=1\") as f:\n",
    "    data = f.read().decode('utf-8')\n",
    "with open('honeypot.csv', 'w') as f:\n",
    "    f.write(data) \n",
    "    \n",
    "import pandas as pd\n",
    "\n",
    "df = pd.read_csv('df_2795.csv', sep = '\\t')\n",
    "del df[\"Unnamed: 0\"]\n",
    "df.sample(3)"
   ]
  },
  {
   "cell_type": "code",
   "execution_count": 51,
   "metadata": {
    "scrolled": true
   },
   "outputs": [
    {
     "data": {
      "text/html": [
       "<div>\n",
       "<style scoped>\n",
       "    .dataframe tbody tr th:only-of-type {\n",
       "        vertical-align: middle;\n",
       "    }\n",
       "\n",
       "    .dataframe tbody tr th {\n",
       "        vertical-align: top;\n",
       "    }\n",
       "\n",
       "    .dataframe thead th {\n",
       "        text-align: right;\n",
       "    }\n",
       "</style>\n",
       "<table border=\"1\" class=\"dataframe\">\n",
       "  <thead>\n",
       "    <tr style=\"text-align: right;\">\n",
       "      <th></th>\n",
       "      <th>Friends</th>\n",
       "      <th>ID</th>\n",
       "      <th>Name</th>\n",
       "      <th>_id</th>\n",
       "      <th>count</th>\n",
       "    </tr>\n",
       "  </thead>\n",
       "  <tbody>\n",
       "    <tr>\n",
       "      <th>134033</th>\n",
       "      <td>VK_18572146</td>\n",
       "      <td>VK_240901991</td>\n",
       "      <td>Далер Каримов</td>\n",
       "      <td>5e998ef58527f100086de0ee</td>\n",
       "      <td>1</td>\n",
       "    </tr>\n",
       "    <tr>\n",
       "      <th>776960</th>\n",
       "      <td>VK_14388089</td>\n",
       "      <td>VK_138530440</td>\n",
       "      <td>Павел Ремизов</td>\n",
       "      <td>5e998fc239bd4000088c168f</td>\n",
       "      <td>1</td>\n",
       "    </tr>\n",
       "    <tr>\n",
       "      <th>690392</th>\n",
       "      <td>VK_16920959</td>\n",
       "      <td>VK_27812630</td>\n",
       "      <td>Андрей Беляев</td>\n",
       "      <td>5e998fa29bc8b30009911286</td>\n",
       "      <td>1</td>\n",
       "    </tr>\n",
       "  </tbody>\n",
       "</table>\n",
       "</div>"
      ],
      "text/plain": [
       "            Friends            ID           Name                       _id  \\\n",
       "134033  VK_18572146  VK_240901991  Далер Каримов  5e998ef58527f100086de0ee   \n",
       "776960  VK_14388089  VK_138530440  Павел Ремизов  5e998fc239bd4000088c168f   \n",
       "690392  VK_16920959   VK_27812630  Андрей Беляев  5e998fa29bc8b30009911286   \n",
       "\n",
       "        count  \n",
       "134033      1  \n",
       "776960      1  \n",
       "690392      1  "
      ]
     },
     "execution_count": 51,
     "metadata": {},
     "output_type": "execute_result"
    }
   ],
   "source": [
    "ids = df[\"ID\"].unique()\n",
    "df_small = df[df[\"Friends\"].isin(ids)].copy()\n",
    "df_small[\"count\"] = [1]*len(df_small)\n",
    "df_small.sample(3)"
   ]
  },
  {
   "cell_type": "markdown",
   "metadata": {},
   "source": [
    "## 2. Plot"
   ]
  },
  {
   "cell_type": "markdown",
   "metadata": {},
   "source": [
    "### A. Simple graphs\n",
    "* Build up a set of bindings. Simple graphs are for edge lists, or an edge list + node list.\n",
    "* See [UI Guide](https://labs.graphistry.com/graphistry/ui.html) for in-tool activity\n",
    "\n",
    "Demo graph schema:\n",
    "* Edges: Alerts linking `ID -> Friends`\n",
    "* Nodes: Synthesized from `ID -> Friends` edges\n",
    "* Default colors: Automatic based on inferred commmunity\n",
    "* Default node size: Number of edges"
   ]
  },
  {
   "cell_type": "code",
   "execution_count": 23,
   "metadata": {
    "scrolled": false
   },
   "outputs": [
    {
     "data": {
      "text/html": [
       "\n",
       "            <iframe id=\"3328b30d-54ba-4aa6-ae1e-4827bf66a921\" src=\"https://labs.graphistry.com/graph/graph.html?dataset=PyGraphistry/3SBRGMNDEZ&type=vgraph&viztoken=800c63b7eded36516ccd32e21e8cae0df6584488&usertag=84b96d51-pygraphistry-0.10.4&splashAfter=1587741563&info=true\"\n",
       "                    allowfullscreen=\"true\" webkitallowfullscreen=\"true\" mozallowfullscreen=\"true\"\n",
       "                    oallowfullscreen=\"true\" msallowfullscreen=\"true\"\n",
       "                    style=\"width:100%; height:500px; border: 1px solid #DDD\">\n",
       "            </iframe>\n",
       "        \n",
       "            <script>\n",
       "                $(\"#3328b30d-54ba-4aa6-ae1e-4827bf66a921\").bind('mousewheel', function(e) {\n",
       "                e.preventDefault();\n",
       "                });\n",
       "            </script>\n",
       "        "
      ],
      "text/plain": [
       "<IPython.core.display.HTML object>"
      ]
     },
     "execution_count": 23,
     "metadata": {},
     "output_type": "execute_result"
    }
   ],
   "source": [
    "g = graphistry.edges(df_small).bind(source='ID', destination='Friends')\n",
    "g.plot()\n",
    "\n"
   ]
  },
  {
   "cell_type": "markdown",
   "metadata": {},
   "source": [
    "## B. Hypergraphs -- Plot arbitrary tables\n",
    "\n",
    "To quickly understand correlations across all your table's values, hypergraph is a convenient transformation.\n",
    "\n",
    "A hypergraph will link values occurring in the sample table row to one another. By default, the hypergraph plot does not link values directly to one another, but indirects through a node representing the row."
   ]
  },
  {
   "cell_type": "markdown",
   "metadata": {},
   "source": [
    "### Approach 1: Each row is a node, and links to each value in it\n",
    "\n",
    "Demo graph schema:\n",
    "* Edges: row -> attckerIP, row -> victimIP, row -> victimPort, row ->  volnName\n",
    "* Nodes: row, attackerIP, victimIP, victimPort, vulnName\n",
    "* Default colors: Automatic based on inferred commmunity\n",
    "* Default node size: Number of edges\n",
    "\n",
    "To allow nodes from the `attackerIP` and `victimIP` columns to merge together when they have the same value, instead of generating distinct nodes such as `attackerIP::127.0.0.1` and `victimIP::127.0.0.1`, we combine them into one category, `ip`. The result is one node `ip::127.0.0.1`.\n"
   ]
  },
  {
   "cell_type": "code",
   "execution_count": 26,
   "metadata": {},
   "outputs": [
    {
     "name": "stdout",
     "output_type": "stream",
     "text": [
      "# links 108568\n",
      "# events 54284\n",
      "# attrib entities 4399\n"
     ]
    },
    {
     "data": {
      "text/html": [
       "\n",
       "            <iframe id=\"983231db-9f24-48d3-a0cf-a9006ca52f9f\" src=\"https://labs.graphistry.com/graph/graph.html?dataset=PyGraphistry/3ISF8V30YJ&type=vgraph&viztoken=af2fa4195407f809ef15bb56e4a0c05f8cf5021f&usertag=84b96d51-pygraphistry-0.10.4&splashAfter=1587741810&info=true\"\n",
       "                    allowfullscreen=\"true\" webkitallowfullscreen=\"true\" mozallowfullscreen=\"true\"\n",
       "                    oallowfullscreen=\"true\" msallowfullscreen=\"true\"\n",
       "                    style=\"width:100%; height:500px; border: 1px solid #DDD\">\n",
       "            </iframe>\n",
       "        \n",
       "            <script>\n",
       "                $(\"#983231db-9f24-48d3-a0cf-a9006ca52f9f\").bind('mousewheel', function(e) {\n",
       "                e.preventDefault();\n",
       "                });\n",
       "            </script>\n",
       "        "
      ],
      "text/plain": [
       "<IPython.core.display.HTML object>"
      ]
     },
     "execution_count": 26,
     "metadata": {},
     "output_type": "execute_result"
    }
   ],
   "source": [
    "hg1 = graphistry.hypergraph(\n",
    "    df_small,\n",
    "    entity_types=['ID', 'Friends'],\n",
    "    )\n",
    "\n",
    "hg1_g = hg1['graph']\n",
    "hg1_g.plot()"
   ]
  },
  {
   "cell_type": "markdown",
   "metadata": {},
   "source": [
    "### Approach 2: Link values from entries\n",
    "\n",
    "For more advanced hypergraph control, we can skip the row node, and control which edges are generated, by enabling `direct`.\n",
    "\n",
    "Demo graph schema:\n",
    "* Edges: \n",
    "  * attackerIP -> victimIP, attackerIP -> victimPort, attackerIP -> vulnName\n",
    "  * victimPort -> victimIP\n",
    "  * vulnName -> victimIP\n",
    "* Nodes: attackerIP, victimIP, victimPort, vulnName\n",
    "* Default colors: Automatic based on inferred commmunity\n",
    "* Default node size: Number of edges\n"
   ]
  },
  {
   "cell_type": "code",
   "execution_count": 59,
   "metadata": {},
   "outputs": [
    {
     "name": "stdout",
     "output_type": "stream",
     "text": [
      "# links 108568\n",
      "# events 54284\n",
      "# attrib entities 6570\n"
     ]
    },
    {
     "data": {
      "text/html": [
       "\n",
       "            <iframe id=\"e62d6cfd-7c88-479c-8e9e-777aa3912d1a\" src=\"https://labs.graphistry.com/graph/graph.html?dataset=PyGraphistry/O6FEQVBL0X&type=vgraph&viztoken=590dd14d4a45b926aa356ec269da21e8b15a6567&usertag=84b96d51-pygraphistry-0.10.4&splashAfter=1587743629&info=true\"\n",
       "                    allowfullscreen=\"true\" webkitallowfullscreen=\"true\" mozallowfullscreen=\"true\"\n",
       "                    oallowfullscreen=\"true\" msallowfullscreen=\"true\"\n",
       "                    style=\"width:100%; height:500px; border: 1px solid #DDD\">\n",
       "            </iframe>\n",
       "        \n",
       "            <script>\n",
       "                $(\"#e62d6cfd-7c88-479c-8e9e-777aa3912d1a\").bind('mousewheel', function(e) {\n",
       "                e.preventDefault();\n",
       "                });\n",
       "            </script>\n",
       "        "
      ],
      "text/plain": [
       "<IPython.core.display.HTML object>"
      ]
     },
     "execution_count": 59,
     "metadata": {},
     "output_type": "execute_result"
    }
   ],
   "source": [
    "hg2 = graphistry.hypergraph(\n",
    "    df_small,\n",
    "    entity_types= ['ID', 'Friends',\"Name\"], \n",
    "    direct=True,\n",
    "    opts={\n",
    "        'EDGES': { ### OPTIONAL, DEFAULTS TO CREATING ALL-TO-ALL\n",
    "            'ID': ['Name', 'Friends'],\n",
    "#             'Name': ['ID'],     \n",
    "        },\n",
    "        'CATAGORIES': {\n",
    "            'friend': ['ID', 'Friends'] #merge nodes across these columns\n",
    "        }\n",
    "    })\n",
    "\n",
    "hg2_g = hg2['graph']\n",
    "hg2_g.plot()"
   ]
  },
  {
   "cell_type": "markdown",
   "metadata": {},
   "source": [
    "## 3. Advanced bindings\n",
    "\n",
    "By default, you do not need to explictly create a table of nodes. However, if you do provide one, you can then drive visual styles based on node attributes.\n",
    "\n",
    "Demo schema:\n",
    "\n",
    "* Point size based on number of friends_count\n",
    "* Point color based on user vs friend\n",
    "  * Color palette values: https://labs.graphistry.com/graphistry/docs/palette.html \n",
    "* Save dynamic workbook settings across sessions"
   ]
  },
  {
   "cell_type": "code",
   "execution_count": 53,
   "metadata": {},
   "outputs": [
    {
     "name": "stderr",
     "output_type": "stream",
     "text": [
      "/home/user/msTest/venv_jupyterhab/lib/python3.6/site-packages/ipykernel_launcher.py:11: FutureWarning: Sorting because non-concatenation axis is not aligned. A future version\n",
      "of pandas will change to not sort by default.\n",
      "\n",
      "To accept the future behavior, pass 'sort=False'.\n",
      "\n",
      "To retain the current behavior and silence the warning, pass 'sort=True'.\n",
      "\n",
      "  # This is added back by InteractiveShellApp.init_path()\n"
     ]
    },
    {
     "data": {
      "text/html": [
       "<div>\n",
       "<style scoped>\n",
       "    .dataframe tbody tr th:only-of-type {\n",
       "        vertical-align: middle;\n",
       "    }\n",
       "\n",
       "    .dataframe tbody tr th {\n",
       "        vertical-align: top;\n",
       "    }\n",
       "\n",
       "    .dataframe thead th {\n",
       "        text-align: right;\n",
       "    }\n",
       "</style>\n",
       "<table border=\"1\" class=\"dataframe\">\n",
       "  <thead>\n",
       "    <tr style=\"text-align: right;\">\n",
       "      <th></th>\n",
       "      <th>count</th>\n",
       "      <th>node_id</th>\n",
       "      <th>type</th>\n",
       "    </tr>\n",
       "  </thead>\n",
       "  <tbody>\n",
       "    <tr>\n",
       "      <th>494</th>\n",
       "      <td>NaN</td>\n",
       "      <td>VK_176778970</td>\n",
       "      <td>friend</td>\n",
       "    </tr>\n",
       "    <tr>\n",
       "      <th>327</th>\n",
       "      <td>NaN</td>\n",
       "      <td>VK_154911213</td>\n",
       "      <td>friend</td>\n",
       "    </tr>\n",
       "    <tr>\n",
       "      <th>4316</th>\n",
       "      <td>27.0</td>\n",
       "      <td>VK_93085778</td>\n",
       "      <td>user</td>\n",
       "    </tr>\n",
       "  </tbody>\n",
       "</table>\n",
       "</div>"
      ],
      "text/plain": [
       "      count       node_id    type\n",
       "494     NaN  VK_176778970  friend\n",
       "327     NaN  VK_154911213  friend\n",
       "4316   27.0   VK_93085778    user"
      ]
     },
     "execution_count": 53,
     "metadata": {},
     "output_type": "execute_result"
    }
   ],
   "source": [
    "# 1. Create nodes, tag type as `attacker`\n",
    "\n",
    "targets_df = df_small[['Friends']].drop_duplicates().rename(columns={'Friends': 'node_id'})\\\n",
    "    .assign(type='friend')\n",
    "\n",
    "attackers_df = df_small.groupby(['ID']).agg({'count': {'Friends': 'sum'}}).reset_index()\n",
    "attackers_df.columns = attackers_df.columns.get_level_values(0)\n",
    "attackers_df = attackers_df.rename(columns={'ID': 'node_id'}).assign(type='user')\n",
    "attackers_df\n",
    "\n",
    "nodes_df = pd.concat([targets_df, attackers_df], ignore_index=True)\n",
    "nodes_df.sample(3)"
   ]
  },
  {
   "cell_type": "code",
   "execution_count": 56,
   "metadata": {},
   "outputs": [
    {
     "data": {
      "text/html": [
       "\n",
       "            <iframe id=\"7414c05e-b5ab-4535-8978-6103b89b7a55\" src=\"https://labs.graphistry.com/graph/graph.html?dataset=PyGraphistry/VPGMR6B1CF&type=vgraph&viztoken=5c2272326ecd430b6d7d223c9ccb21da6f7ca9ce&usertag=84b96d51-pygraphistry-0.10.4&splashAfter=1587743511&info=true&workbook=my_analysis_wb_1\"\n",
       "                    allowfullscreen=\"true\" webkitallowfullscreen=\"true\" mozallowfullscreen=\"true\"\n",
       "                    oallowfullscreen=\"true\" msallowfullscreen=\"true\"\n",
       "                    style=\"width:100%; height:500px; border: 1px solid #DDD\">\n",
       "            </iframe>\n",
       "        \n",
       "            <script>\n",
       "                $(\"#7414c05e-b5ab-4535-8978-6103b89b7a55\").bind('mousewheel', function(e) {\n",
       "                e.preventDefault();\n",
       "                });\n",
       "            </script>\n",
       "        "
      ],
      "text/plain": [
       "<IPython.core.display.HTML object>"
      ]
     },
     "execution_count": 56,
     "metadata": {},
     "output_type": "execute_result"
    }
   ],
   "source": [
    "# 2. Plot nodes, and color based on type `user`\n",
    "\n",
    "g2 = g.nodes(nodes_df).bind(node='node_id')\n",
    "\n",
    "#optional\n",
    "nodes_df['my_color'] = nodes_df['type'].apply(lambda v: 0 if v == 'user' else 2)\n",
    "nodes_df = nodes_df.fillna(value={'count': (nodes_df['count'].max() + nodes_df['count'].min()) / 2.0 })\n",
    "g2 = g2.bind(point_size = 'count', point_color='my_color')\n",
    "g2 = g2.settings(url_params={'workbook': 'my_analysis_wb_1'})\n",
    "\n",
    "g2.plot()"
   ]
  },
  {
   "cell_type": "markdown",
   "metadata": {},
   "source": [
    "### Advanced bindings work with hypergraphs too"
   ]
  },
  {
   "cell_type": "code",
   "execution_count": 60,
   "metadata": {},
   "outputs": [
    {
     "data": {
      "text/html": [
       "<div>\n",
       "<style scoped>\n",
       "    .dataframe tbody tr th:only-of-type {\n",
       "        vertical-align: middle;\n",
       "    }\n",
       "\n",
       "    .dataframe tbody tr th {\n",
       "        vertical-align: top;\n",
       "    }\n",
       "\n",
       "    .dataframe thead th {\n",
       "        text-align: right;\n",
       "    }\n",
       "</style>\n",
       "<table border=\"1\" class=\"dataframe\">\n",
       "  <thead>\n",
       "    <tr style=\"text-align: right;\">\n",
       "      <th></th>\n",
       "      <th>Friends</th>\n",
       "      <th>ID</th>\n",
       "      <th>Name</th>\n",
       "      <th>nodeID</th>\n",
       "      <th>nodeTitle</th>\n",
       "      <th>type</th>\n",
       "      <th>category</th>\n",
       "      <th>color</th>\n",
       "    </tr>\n",
       "  </thead>\n",
       "  <tbody>\n",
       "    <tr>\n",
       "      <th>3063</th>\n",
       "      <td>VK_83310864</td>\n",
       "      <td>NaN</td>\n",
       "      <td>NaN</td>\n",
       "      <td>Friends::VK_83310864</td>\n",
       "      <td>VK_83310864</td>\n",
       "      <td>Friends</td>\n",
       "      <td>Friends</td>\n",
       "      <td>1</td>\n",
       "    </tr>\n",
       "    <tr>\n",
       "      <th>1606</th>\n",
       "      <td>NaN</td>\n",
       "      <td>VK_46321791</td>\n",
       "      <td>NaN</td>\n",
       "      <td>ID::VK_46321791</td>\n",
       "      <td>VK_46321791</td>\n",
       "      <td>ID</td>\n",
       "      <td>ID</td>\n",
       "      <td>0</td>\n",
       "    </tr>\n",
       "    <tr>\n",
       "      <th>1079</th>\n",
       "      <td>NaN</td>\n",
       "      <td>VK_6380879</td>\n",
       "      <td>NaN</td>\n",
       "      <td>ID::VK_6380879</td>\n",
       "      <td>VK_6380879</td>\n",
       "      <td>ID</td>\n",
       "      <td>ID</td>\n",
       "      <td>0</td>\n",
       "    </tr>\n",
       "  </tbody>\n",
       "</table>\n",
       "</div>"
      ],
      "text/plain": [
       "          Friends           ID Name                nodeID    nodeTitle  \\\n",
       "3063  VK_83310864          NaN  NaN  Friends::VK_83310864  VK_83310864   \n",
       "1606          NaN  VK_46321791  NaN       ID::VK_46321791  VK_46321791   \n",
       "1079          NaN   VK_6380879  NaN        ID::VK_6380879   VK_6380879   \n",
       "\n",
       "         type category  color  \n",
       "3063  Friends  Friends      1  \n",
       "1606       ID       ID      0  \n",
       "1079       ID       ID      0  "
      ]
     },
     "execution_count": 60,
     "metadata": {},
     "output_type": "execute_result"
    }
   ],
   "source": [
    "nodes = hg2_g._nodes\n",
    "\n",
    "types = list(nodes['type'].unique())\n",
    "nodes_with_colors = nodes.assign(color=nodes.type.apply(lambda t: types.index(t)))\n",
    "nodes_with_colors.sample(3)"
   ]
  },
  {
   "cell_type": "code",
   "execution_count": 61,
   "metadata": {},
   "outputs": [
    {
     "data": {
      "text/html": [
       "\n",
       "            <iframe id=\"050dcb5c-1ad9-4583-bd0d-9940ceb76f37\" src=\"https://labs.graphistry.com/graph/graph.html?dataset=PyGraphistry/U64TJSW549&type=vgraph&viztoken=302a320c61994e8f142c603a42cb8018aa9f11d3&usertag=84b96d51-pygraphistry-0.10.4&splashAfter=1587743670&info=true&workbook=my_analysis_wb_2\"\n",
       "                    allowfullscreen=\"true\" webkitallowfullscreen=\"true\" mozallowfullscreen=\"true\"\n",
       "                    oallowfullscreen=\"true\" msallowfullscreen=\"true\"\n",
       "                    style=\"width:100%; height:500px; border: 1px solid #DDD\">\n",
       "            </iframe>\n",
       "        \n",
       "            <script>\n",
       "                $(\"#050dcb5c-1ad9-4583-bd0d-9940ceb76f37\").bind('mousewheel', function(e) {\n",
       "                e.preventDefault();\n",
       "                });\n",
       "            </script>\n",
       "        "
      ],
      "text/plain": [
       "<IPython.core.display.HTML object>"
      ]
     },
     "execution_count": 61,
     "metadata": {},
     "output_type": "execute_result"
    }
   ],
   "source": [
    "hg2_g\\\n",
    "  .nodes(nodes_with_colors).bind(point_color='color')\\\n",
    "  .settings(url_params={'workbook': 'my_analysis_wb_2'})\\\n",
    "  .plot()"
   ]
  },
  {
   "cell_type": "markdown",
   "metadata": {},
   "source": [
    "## Further docs:\n",
    "  - [UI Guide](https://labs.graphistry.com/graphistry/ui.html)\n",
    "  - [More demos: database connectors, ...](demos_databases_apis)\n",
    "  - [CSV upload notebook app](upload_csv_miniapp.ipynb)"
   ]
  },
  {
   "cell_type": "code",
   "execution_count": null,
   "metadata": {
    "collapsed": true
   },
   "outputs": [],
   "source": []
  },
  {
   "cell_type": "code",
   "execution_count": null,
   "metadata": {
    "collapsed": true
   },
   "outputs": [],
   "source": []
  }
 ],
 "metadata": {
  "kernelspec": {
   "display_name": "Python 3",
   "language": "python",
   "name": "python3"
  },
  "language_info": {
   "codemirror_mode": {
    "name": "ipython",
    "version": 3
   },
   "file_extension": ".py",
   "mimetype": "text/x-python",
   "name": "python",
   "nbconvert_exporter": "python",
   "pygments_lexer": "ipython3",
   "version": "3.6.8"
  }
 },
 "nbformat": 4,
 "nbformat_minor": 2
}
