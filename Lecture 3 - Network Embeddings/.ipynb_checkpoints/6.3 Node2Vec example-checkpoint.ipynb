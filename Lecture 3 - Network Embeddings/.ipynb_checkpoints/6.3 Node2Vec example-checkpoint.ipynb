{
 "cells": [
  {
   "cell_type": "code",
   "execution_count": 1,
   "metadata": {},
   "outputs": [],
   "source": [
    "%matplotlib inline\n",
    "\n",
    "import warnings\n",
    "from collections import deque\n",
    "warnings.filterwarnings('ignore')\n",
    "\n",
    "import random\n",
    "import pandas as pd\n",
    "# from sklearn.manifold import TSNE\n",
    "import numpy as np\n",
    "import networkx as nx\n",
    "import matplotlib.pyplot as plt\n",
    "import matplotlib.patches as mpatches\n",
    "import seaborn as sns\n",
    "from node2vec import Node2Vec\n",
    "from node2vec.edges import HadamardEmbedder\n",
    "import json\n",
    "import graphistry\n",
    "sns.set_style('whitegrid')"
   ]
  },
  {
   "cell_type": "code",
   "execution_count": 2,
   "metadata": {},
   "outputs": [
    {
     "data": {
      "application/javascript": [
       "IPython.notebook.set_autosave_interval(60000)"
      ]
     },
     "metadata": {},
     "output_type": "display_data"
    },
    {
     "name": "stdout",
     "output_type": "stream",
     "text": [
      "Autosaving every 60 seconds\n"
     ]
    }
   ],
   "source": [
    "%autosave 60"
   ]
  },
  {
   "cell_type": "code",
   "execution_count": 3,
   "metadata": {},
   "outputs": [
    {
     "name": "stdout",
     "output_type": "stream",
     "text": [
      "219139\n"
     ]
    },
    {
     "data": {
      "text/html": [
       "<div>\n",
       "<style scoped>\n",
       "    .dataframe tbody tr th:only-of-type {\n",
       "        vertical-align: middle;\n",
       "    }\n",
       "\n",
       "    .dataframe tbody tr th {\n",
       "        vertical-align: top;\n",
       "    }\n",
       "\n",
       "    .dataframe thead th {\n",
       "        text-align: right;\n",
       "    }\n",
       "</style>\n",
       "<table border=\"1\" class=\"dataframe\">\n",
       "  <thead>\n",
       "    <tr style=\"text-align: right;\">\n",
       "      <th></th>\n",
       "      <th>ID</th>\n",
       "      <th>neighbourID</th>\n",
       "      <th>edge_weight</th>\n",
       "    </tr>\n",
       "  </thead>\n",
       "  <tbody>\n",
       "    <tr>\n",
       "      <th>60788</th>\n",
       "      <td>-81727302</td>\n",
       "      <td>-38985436</td>\n",
       "      <td>0.00226765</td>\n",
       "    </tr>\n",
       "    <tr>\n",
       "      <th>103566</th>\n",
       "      <td>-49177878</td>\n",
       "      <td>-165737448</td>\n",
       "      <td>0.00283575</td>\n",
       "    </tr>\n",
       "    <tr>\n",
       "      <th>99741</th>\n",
       "      <td>-42521777</td>\n",
       "      <td>-30255249</td>\n",
       "      <td>0.0021850000000000003</td>\n",
       "    </tr>\n",
       "  </tbody>\n",
       "</table>\n",
       "</div>"
      ],
      "text/plain": [
       "               ID neighbourID            edge_weight\n",
       "60788   -81727302   -38985436             0.00226765\n",
       "103566  -49177878  -165737448             0.00283575\n",
       "99741   -42521777   -30255249  0.0021850000000000003"
      ]
     },
     "execution_count": 3,
     "metadata": {},
     "output_type": "execute_result"
    }
   ],
   "source": [
    "file_path = \"subset_res.edgelist\"\n",
    "df = pd.read_csv(file_path, header=None, decimal=\",\", delimiter=\" \", names=['ID', 'neighbourID', 'edge_weight'])[1:]\n",
    "print(len(df))\n",
    "df.sample(3)"
   ]
  },
  {
   "cell_type": "code",
   "execution_count": 4,
   "metadata": {},
   "outputs": [
    {
     "data": {
      "text/plain": [
       "4939"
      ]
     },
     "execution_count": 4,
     "metadata": {},
     "output_type": "execute_result"
    }
   ],
   "source": [
    "ids_list = list(set(list(df[\"ID\"].unique())+list(df[\"neighbourID\"].unique())))\n",
    "len(ids_list)"
   ]
  },
  {
   "cell_type": "code",
   "execution_count": 5,
   "metadata": {},
   "outputs": [],
   "source": [
    "df_data = pd.read_csv('groups_info', sep =';')"
   ]
  },
  {
   "cell_type": "code",
   "execution_count": 6,
   "metadata": {},
   "outputs": [
    {
     "data": {
      "text/html": [
       "<div>\n",
       "<style scoped>\n",
       "    .dataframe tbody tr th:only-of-type {\n",
       "        vertical-align: middle;\n",
       "    }\n",
       "\n",
       "    .dataframe tbody tr th {\n",
       "        vertical-align: top;\n",
       "    }\n",
       "\n",
       "    .dataframe thead th {\n",
       "        text-align: right;\n",
       "    }\n",
       "</style>\n",
       "<table border=\"1\" class=\"dataframe\">\n",
       "  <thead>\n",
       "    <tr style=\"text-align: right;\">\n",
       "      <th></th>\n",
       "      <th>Name</th>\n",
       "      <th>ScreenName</th>\n",
       "      <th>Type</th>\n",
       "      <th>Url</th>\n",
       "      <th>ID</th>\n",
       "      <th>MembersCount</th>\n",
       "      <th>neighbourID</th>\n",
       "    </tr>\n",
       "  </thead>\n",
       "  <tbody>\n",
       "    <tr>\n",
       "      <th>0</th>\n",
       "      <td>Никогда не сдавайся!</td>\n",
       "      <td>never_g1ve_up</td>\n",
       "      <td>2</td>\n",
       "      <td>https://vk.com/club53503880</td>\n",
       "      <td>-53503880</td>\n",
       "      <td>317713</td>\n",
       "      <td>-53503880</td>\n",
       "    </tr>\n",
       "    <tr>\n",
       "      <th>1</th>\n",
       "      <td>Записки Неизвестного и ОбщежитиЕ | 16 ноября</td>\n",
       "      <td>nzapiski.obshezhitie</td>\n",
       "      <td>3</td>\n",
       "      <td>https://vk.com/club60064207</td>\n",
       "      <td>-60064207</td>\n",
       "      <td>96</td>\n",
       "      <td>-60064207</td>\n",
       "    </tr>\n",
       "    <tr>\n",
       "      <th>2</th>\n",
       "      <td>Новоладожский судоремонтный завод</td>\n",
       "      <td>novladnlsz</td>\n",
       "      <td>1</td>\n",
       "      <td>https://vk.com/club153385562</td>\n",
       "      <td>-153385562</td>\n",
       "      <td>203</td>\n",
       "      <td>-153385562</td>\n",
       "    </tr>\n",
       "    <tr>\n",
       "      <th>3</th>\n",
       "      <td>Молодёжный центр \"Зеркало\" | Красноярск</td>\n",
       "      <td>mczerkalo</td>\n",
       "      <td>2</td>\n",
       "      <td>https://vk.com/club34820906</td>\n",
       "      <td>-34820906</td>\n",
       "      <td>4145</td>\n",
       "      <td>-34820906</td>\n",
       "    </tr>\n",
       "    <tr>\n",
       "      <th>4</th>\n",
       "      <td>АВТОМОБИЛЬНЫЙ ТУР ПО ТОПОВЫМ МЕСТАМ СИЛЫ КРЫМА</td>\n",
       "      <td>club93008936</td>\n",
       "      <td>3</td>\n",
       "      <td>https://vk.com/club93008936</td>\n",
       "      <td>-93008936</td>\n",
       "      <td>99</td>\n",
       "      <td>-93008936</td>\n",
       "    </tr>\n",
       "    <tr>\n",
       "      <th>...</th>\n",
       "      <td>...</td>\n",
       "      <td>...</td>\n",
       "      <td>...</td>\n",
       "      <td>...</td>\n",
       "      <td>...</td>\n",
       "      <td>...</td>\n",
       "      <td>...</td>\n",
       "    </tr>\n",
       "    <tr>\n",
       "      <th>4934</th>\n",
       "      <td>ЖизниДар</td>\n",
       "      <td>zhiznidar</td>\n",
       "      <td>2</td>\n",
       "      <td>https://vk.com/club58011970</td>\n",
       "      <td>-58011970</td>\n",
       "      <td>7879</td>\n",
       "      <td>-58011970</td>\n",
       "    </tr>\n",
       "    <tr>\n",
       "      <th>4935</th>\n",
       "      <td>Институт Рокеров | Rock</td>\n",
       "      <td>rock_ins</td>\n",
       "      <td>2</td>\n",
       "      <td>https://vk.com/club55844834</td>\n",
       "      <td>-55844834</td>\n",
       "      <td>325435</td>\n",
       "      <td>-55844834</td>\n",
       "    </tr>\n",
       "    <tr>\n",
       "      <th>4936</th>\n",
       "      <td>Московский транспорт</td>\n",
       "      <td>transportmos</td>\n",
       "      <td>2</td>\n",
       "      <td>https://vk.com/club96196967</td>\n",
       "      <td>-96196967</td>\n",
       "      <td>87132</td>\n",
       "      <td>-96196967</td>\n",
       "    </tr>\n",
       "    <tr>\n",
       "      <th>4937</th>\n",
       "      <td>Живая природа</td>\n",
       "      <td>newsnature</td>\n",
       "      <td>2</td>\n",
       "      <td>https://vk.com/club40686068</td>\n",
       "      <td>-40686068</td>\n",
       "      <td>78428</td>\n",
       "      <td>-40686068</td>\n",
       "    </tr>\n",
       "    <tr>\n",
       "      <th>4938</th>\n",
       "      <td>Магазин профессионального инструмента Festool</td>\n",
       "      <td>elektroinstrumenti</td>\n",
       "      <td>1</td>\n",
       "      <td>https://vk.com/club13319633</td>\n",
       "      <td>-13319633</td>\n",
       "      <td>7578</td>\n",
       "      <td>-13319633</td>\n",
       "    </tr>\n",
       "  </tbody>\n",
       "</table>\n",
       "<p>4939 rows × 7 columns</p>\n",
       "</div>"
      ],
      "text/plain": [
       "                                                Name            ScreenName  \\\n",
       "0                               Никогда не сдавайся!         never_g1ve_up   \n",
       "1       Записки Неизвестного и ОбщежитиЕ | 16 ноября  nzapiski.obshezhitie   \n",
       "2                  Новоладожский судоремонтный завод            novladnlsz   \n",
       "3            Молодёжный центр \"Зеркало\" | Красноярск             mczerkalo   \n",
       "4     АВТОМОБИЛЬНЫЙ ТУР ПО ТОПОВЫМ МЕСТАМ СИЛЫ КРЫМА          club93008936   \n",
       "...                                              ...                   ...   \n",
       "4934                                        ЖизниДар             zhiznidar   \n",
       "4935                         Институт Рокеров | Rock              rock_ins   \n",
       "4936                            Московский транспорт          transportmos   \n",
       "4937                                   Живая природа            newsnature   \n",
       "4938   Магазин профессионального инструмента Festool    elektroinstrumenti   \n",
       "\n",
       "     Type                           Url          ID  MembersCount neighbourID  \n",
       "0       2   https://vk.com/club53503880   -53503880        317713   -53503880  \n",
       "1       3   https://vk.com/club60064207   -60064207            96   -60064207  \n",
       "2       1  https://vk.com/club153385562  -153385562           203  -153385562  \n",
       "3       2   https://vk.com/club34820906   -34820906          4145   -34820906  \n",
       "4       3   https://vk.com/club93008936   -93008936            99   -93008936  \n",
       "...   ...                           ...         ...           ...         ...  \n",
       "4934    2   https://vk.com/club58011970   -58011970          7879   -58011970  \n",
       "4935    2   https://vk.com/club55844834   -55844834        325435   -55844834  \n",
       "4936    2   https://vk.com/club96196967   -96196967         87132   -96196967  \n",
       "4937    2   https://vk.com/club40686068   -40686068         78428   -40686068  \n",
       "4938    1   https://vk.com/club13319633   -13319633          7578   -13319633  \n",
       "\n",
       "[4939 rows x 7 columns]"
      ]
     },
     "execution_count": 6,
     "metadata": {},
     "output_type": "execute_result"
    }
   ],
   "source": [
    "df_data = pd.read_csv('groups_info', sep=\";\",  dtype={\"Name\":str, \"ScreenName\":str, \"Type\":str, \"Url\":str, \"ID\":str, \"MembersCount\":int, \"neighbourID\":str})\n",
    "df_data"
   ]
  },
  {
   "cell_type": "code",
   "execution_count": 8,
   "metadata": {},
   "outputs": [
    {
     "data": {
      "text/html": [
       "<div>\n",
       "<style scoped>\n",
       "    .dataframe tbody tr th:only-of-type {\n",
       "        vertical-align: middle;\n",
       "    }\n",
       "\n",
       "    .dataframe tbody tr th {\n",
       "        vertical-align: top;\n",
       "    }\n",
       "\n",
       "    .dataframe thead th {\n",
       "        text-align: right;\n",
       "    }\n",
       "</style>\n",
       "<table border=\"1\" class=\"dataframe\">\n",
       "  <thead>\n",
       "    <tr style=\"text-align: right;\">\n",
       "      <th></th>\n",
       "      <th>ID</th>\n",
       "      <th>neighbourID</th>\n",
       "      <th>edge_weight</th>\n",
       "      <th>ID_name</th>\n",
       "      <th>neighbourID_name</th>\n",
       "    </tr>\n",
       "  </thead>\n",
       "  <tbody>\n",
       "    <tr>\n",
       "      <th>0</th>\n",
       "      <td>-59068817</td>\n",
       "      <td>-110750331</td>\n",
       "      <td>0.0021646</td>\n",
       "      <td>Пироговая 29</td>\n",
       "      <td>Важные Вещи. Сток-центр распродаж детской одежды</td>\n",
       "    </tr>\n",
       "    <tr>\n",
       "      <th>1</th>\n",
       "      <td>-3728827</td>\n",
       "      <td>-110750331</td>\n",
       "      <td>0.00236148</td>\n",
       "      <td>Серьёзно о прививках и не только</td>\n",
       "      <td>Важные Вещи. Сток-центр распродаж детской одежды</td>\n",
       "    </tr>\n",
       "    <tr>\n",
       "      <th>2</th>\n",
       "      <td>-98991503</td>\n",
       "      <td>-110750331</td>\n",
       "      <td>0.00384615</td>\n",
       "      <td>Иван - Чай ,Чага,Травы и Чай (Вологда)</td>\n",
       "      <td>Важные Вещи. Сток-центр распродаж детской одежды</td>\n",
       "    </tr>\n",
       "    <tr>\n",
       "      <th>3</th>\n",
       "      <td>-47683898</td>\n",
       "      <td>-110750331</td>\n",
       "      <td>0.00170736</td>\n",
       "      <td>Жесть по-Архангельски</td>\n",
       "      <td>Важные Вещи. Сток-центр распродаж детской одежды</td>\n",
       "    </tr>\n",
       "    <tr>\n",
       "      <th>4</th>\n",
       "      <td>-35741689</td>\n",
       "      <td>-110750331</td>\n",
       "      <td>0.0194171</td>\n",
       "      <td>ВОП — о жизни Вологды</td>\n",
       "      <td>Важные Вещи. Сток-центр распродаж детской одежды</td>\n",
       "    </tr>\n",
       "    <tr>\n",
       "      <th>...</th>\n",
       "      <td>...</td>\n",
       "      <td>...</td>\n",
       "      <td>...</td>\n",
       "      <td>...</td>\n",
       "      <td>...</td>\n",
       "    </tr>\n",
       "    <tr>\n",
       "      <th>219134</th>\n",
       "      <td>-60150437</td>\n",
       "      <td>-50923603</td>\n",
       "      <td>0.0294118</td>\n",
       "      <td>29 ноября Впервые в Котласе ЧЁРНЫЙ ОБЕЛИСК!!!!</td>\n",
       "      <td>Открытие мотосезона 2013</td>\n",
       "    </tr>\n",
       "    <tr>\n",
       "      <th>219135</th>\n",
       "      <td>-49094000</td>\n",
       "      <td>-68345520</td>\n",
       "      <td>0.015872999999999998</td>\n",
       "      <td>Муз. инструменты из т/п \"Спокойной ночи, малыши\"</td>\n",
       "      <td>Подслушано \"ГУДИ\"</td>\n",
       "    </tr>\n",
       "    <tr>\n",
       "      <th>219136</th>\n",
       "      <td>-82567516</td>\n",
       "      <td>-78435823</td>\n",
       "      <td>0.00467775</td>\n",
       "      <td>Сантехника–смешно и серьёзно</td>\n",
       "      <td>Noskova Marina/IFBB/Fitness bikini</td>\n",
       "    </tr>\n",
       "    <tr>\n",
       "      <th>219137</th>\n",
       "      <td>-102520640</td>\n",
       "      <td>-50838243</td>\n",
       "      <td>0.00241187</td>\n",
       "      <td>RoboShop - всё для Arduino и робототехники!</td>\n",
       "      <td>Electronics Engineering Blog</td>\n",
       "    </tr>\n",
       "    <tr>\n",
       "      <th>219138</th>\n",
       "      <td>-23545494</td>\n",
       "      <td>-91678430</td>\n",
       "      <td>0.0169492</td>\n",
       "      <td>AIESEC [Ростов-на-Дону]</td>\n",
       "      <td>Театр-студия NeFoрмат</td>\n",
       "    </tr>\n",
       "  </tbody>\n",
       "</table>\n",
       "<p>219139 rows × 5 columns</p>\n",
       "</div>"
      ],
      "text/plain": [
       "                ID neighbourID           edge_weight  \\\n",
       "0        -59068817  -110750331             0.0021646   \n",
       "1         -3728827  -110750331            0.00236148   \n",
       "2        -98991503  -110750331            0.00384615   \n",
       "3        -47683898  -110750331            0.00170736   \n",
       "4        -35741689  -110750331             0.0194171   \n",
       "...            ...         ...                   ...   \n",
       "219134   -60150437   -50923603             0.0294118   \n",
       "219135   -49094000   -68345520  0.015872999999999998   \n",
       "219136   -82567516   -78435823            0.00467775   \n",
       "219137  -102520640   -50838243            0.00241187   \n",
       "219138   -23545494   -91678430             0.0169492   \n",
       "\n",
       "                                                 ID_name  \\\n",
       "0                                           Пироговая 29   \n",
       "1                       Серьёзно о прививках и не только   \n",
       "2                 Иван - Чай ,Чага,Травы и Чай (Вологда)   \n",
       "3                                  Жесть по-Архангельски   \n",
       "4                                  ВОП — о жизни Вологды   \n",
       "...                                                  ...   \n",
       "219134    29 ноября Впервые в Котласе ЧЁРНЫЙ ОБЕЛИСК!!!!   \n",
       "219135  Муз. инструменты из т/п \"Спокойной ночи, малыши\"   \n",
       "219136                      Сантехника–смешно и серьёзно   \n",
       "219137       RoboShop - всё для Arduino и робототехники!   \n",
       "219138                           AIESEC [Ростов-на-Дону]   \n",
       "\n",
       "                                        neighbourID_name  \n",
       "0       Важные Вещи. Сток-центр распродаж детской одежды  \n",
       "1       Важные Вещи. Сток-центр распродаж детской одежды  \n",
       "2       Важные Вещи. Сток-центр распродаж детской одежды  \n",
       "3       Важные Вещи. Сток-центр распродаж детской одежды  \n",
       "4       Важные Вещи. Сток-центр распродаж детской одежды  \n",
       "...                                                  ...  \n",
       "219134                          Открытие мотосезона 2013  \n",
       "219135                                 Подслушано \"ГУДИ\"  \n",
       "219136                Noskova Marina/IFBB/Fitness bikini  \n",
       "219137                      Electronics Engineering Blog  \n",
       "219138                             Театр-студия NeFoрмат  \n",
       "\n",
       "[219139 rows x 5 columns]"
      ]
     },
     "execution_count": 8,
     "metadata": {},
     "output_type": "execute_result"
    }
   ],
   "source": [
    "result = df.copy()\n",
    "result = pd.merge(result,\n",
    "                 df_data[['ID', 'Name']],\n",
    "                 on='ID')\n",
    "result.rename(columns={\"Name\": \"ID_name\"}, inplace=True)\n",
    "\n",
    "result = pd.merge(result,\n",
    "                 df_data[['neighbourID', 'Name']],\n",
    "                 on='neighbourID')\n",
    "result.rename(columns={\"Name\": \"neighbourID_name\"}, inplace=True)\n",
    "result.head()\n",
    "len(result)\n",
    "result"
   ]
  },
  {
   "cell_type": "markdown",
   "metadata": {},
   "source": [
    "df.sample(3)"
   ]
  },
  {
   "cell_type": "code",
   "execution_count": 9,
   "metadata": {},
   "outputs": [
    {
     "name": "stdout",
     "output_type": "stream",
     "text": [
      "0.14.0\n"
     ]
    }
   ],
   "source": [
    "graphistry.register(key='3bd0ff5a5304a3ee27de2ca78ac7b67bbc48dc67409c255c0f70250955cf967c')\n",
    "print(graphistry.__version__)"
   ]
  },
  {
   "cell_type": "code",
   "execution_count": 10,
   "metadata": {},
   "outputs": [],
   "source": [
    "g = graphistry.edges(result).bind(source='ID_name', destination='neighbourID_name', edge_weight='edge_weight')"
   ]
  },
  {
   "cell_type": "code",
   "execution_count": 11,
   "metadata": {
    "scrolled": true
   },
   "outputs": [
    {
     "name": "stdout",
     "output_type": "stream",
     "text": [
      "Uploading 7584 kB. This may take a while...\n"
     ]
    },
    {
     "data": {
      "text/html": [
       "\n",
       "            <iframe id=\"f739e11a-8249-42fa-8fbe-59a9e7513be6\" src=\"https://hub.graphistry.com/graph/graph.html?dataset=b613c658ac3156528e5fc2ffc7d4464c&type=vgraph&viztoken=a33d3a0e489e4a92aab414141d53eef5&usertag=84b96d51-pygraphistry-0.14.0&splashAfter=1613479768&info=true\"\n",
       "                    allowfullscreen=\"true\" webkitallowfullscreen=\"true\" mozallowfullscreen=\"true\"\n",
       "                    oallowfullscreen=\"true\" msallowfullscreen=\"true\"\n",
       "                    style=\"width:100%; height:500px; border: 1px solid #DDD; overflow: hidden\">\n",
       "            </iframe>\n",
       "        \n",
       "            <script>\n",
       "                try {\n",
       "                  $(\"#f739e11a-8249-42fa-8fbe-59a9e7513be6\").bind('mousewheel', function(e) { e.preventDefault(); });\n",
       "                } catch (e) { console.error('exn catching scroll', e); }\n",
       "            </script>\n",
       "        "
      ],
      "text/plain": [
       "<IPython.core.display.HTML object>"
      ]
     },
     "execution_count": 11,
     "metadata": {},
     "output_type": "execute_result"
    }
   ],
   "source": [
    "g.plot()"
   ]
  },
  {
   "cell_type": "code",
   "execution_count": 12,
   "metadata": {},
   "outputs": [
    {
     "name": "stdout",
     "output_type": "stream",
     "text": [
      "2009\n",
      "             ID neighbourID edge_weight\n",
      "1176  -22310525    -8162550  0.00181141\n",
      "1055   -8162550   -28044924  0.00221203\n",
      "198   -40166773   -20823552  0.00232143\n"
     ]
    },
    {
     "data": {
      "text/html": [
       "\n",
       "            <iframe id=\"6b51b966-26e6-4f7e-9ec6-233b5462ee93\" src=\"https://hub.graphistry.com/graph/graph.html?dataset=95b80be686975619b0fe65dc5bf9ba33&type=vgraph&viztoken=cc933c3343954626bec90fbac44a9ac2&usertag=84b96d51-pygraphistry-0.14.0&splashAfter=1613479770&info=true\"\n",
       "                    allowfullscreen=\"true\" webkitallowfullscreen=\"true\" mozallowfullscreen=\"true\"\n",
       "                    oallowfullscreen=\"true\" msallowfullscreen=\"true\"\n",
       "                    style=\"width:100%; height:500px; border: 1px solid #DDD; overflow: hidden\">\n",
       "            </iframe>\n",
       "        \n",
       "            <script>\n",
       "                try {\n",
       "                  $(\"#6b51b966-26e6-4f7e-9ec6-233b5462ee93\").bind('mousewheel', function(e) { e.preventDefault(); });\n",
       "                } catch (e) { console.error('exn catching scroll', e); }\n",
       "            </script>\n",
       "        "
      ],
      "text/plain": [
       "<IPython.core.display.HTML object>"
      ]
     },
     "execution_count": 12,
     "metadata": {},
     "output_type": "execute_result"
    }
   ],
   "source": [
    "file_path = \"subset_500_res.edgelist\"\n",
    "df_sample = pd.read_csv(file_path, header=None, decimal=\",\", delimiter=\" \", names=['ID', 'neighbourID', 'edge_weight'])[1:]\n",
    "print(len(df_sample))\n",
    "print(df_sample.sample(3))\n",
    "g = graphistry.edges(df_sample).bind(source='ID', destination='neighbourID', edge_weight='edge_weight')\n",
    "g.plot()"
   ]
  },
  {
   "cell_type": "code",
   "execution_count": 13,
   "metadata": {},
   "outputs": [
    {
     "name": "stdout",
     "output_type": "stream",
     "text": [
      "219139\n",
      "Uploading 7494 kB. This may take a while...\n"
     ]
    },
    {
     "data": {
      "text/html": [
       "\n",
       "            <iframe id=\"75d0a773-8d47-408b-9af7-782226f5919d\" src=\"https://hub.graphistry.com/graph/graph.html?dataset=9a92e3d63cb75fdcadbf74e5bdfff1e4&type=vgraph&viztoken=eac00226efba48ed941ec0f5471f7833&usertag=84b96d51-pygraphistry-0.14.0&splashAfter=1613479794&info=true\"\n",
       "                    allowfullscreen=\"true\" webkitallowfullscreen=\"true\" mozallowfullscreen=\"true\"\n",
       "                    oallowfullscreen=\"true\" msallowfullscreen=\"true\"\n",
       "                    style=\"width:100%; height:500px; border: 1px solid #DDD; overflow: hidden\">\n",
       "            </iframe>\n",
       "        \n",
       "            <script>\n",
       "                try {\n",
       "                  $(\"#75d0a773-8d47-408b-9af7-782226f5919d\").bind('mousewheel', function(e) { e.preventDefault(); });\n",
       "                } catch (e) { console.error('exn catching scroll', e); }\n",
       "            </script>\n",
       "        "
      ],
      "text/plain": [
       "<IPython.core.display.HTML object>"
      ]
     },
     "execution_count": 13,
     "metadata": {},
     "output_type": "execute_result"
    }
   ],
   "source": [
    "file_path = \"subset_res.edgelist\"\n",
    "df_sample = pd.read_csv(file_path, header=None, decimal=\",\", delimiter=\" \", names=['ID', 'neighbourID', 'edge_weight'])[1:]\n",
    "print(len(df_sample))\n",
    "\n",
    "# df_sample = pd.merge(df_sample,\n",
    "#                  df_data[['ID', 'Name']],\n",
    "#                  on='ID')\n",
    "# df_sample.rename(columns={\"Name\": \"ID_name\"}, inplace=True)\n",
    "\n",
    "# df_sample = pd.merge(df_sample,\n",
    "#                  df_data[['neighbourID', 'Name']],\n",
    "#                  on='neighbourID')\n",
    "# df_sample.rename(columns={\"Name\": \"neighbourID_name\"}, inplace=True)\n",
    "\n",
    "# print(df_sample.head())\n",
    "\n",
    "g = graphistry.edges(result).bind(source='ID', destination='neighbourID', edge_weight='edge_weight')\n",
    "g.plot()"
   ]
  },
  {
   "cell_type": "code",
   "execution_count": 14,
   "metadata": {},
   "outputs": [],
   "source": [
    "def groups2graph(graph, df):\n",
    "    roster = dict()\n",
    "    for index, row in df.iterrows():\n",
    "        ID = row['ID']\n",
    "        neighbourID = row['neighbourID']\n",
    "        edge_weight = float(row['edge_weight'])\n",
    "        graph.add_edge(ID, neighbourID, weight=edge_weight)\n",
    "        \n",
    "    return graph"
   ]
  },
  {
   "cell_type": "code",
   "execution_count": 15,
   "metadata": {},
   "outputs": [],
   "source": [
    "# small_graph= nx.Graph()\n",
    "# small_graph = groups2graph(graph, df[:100])"
   ]
  },
  {
   "cell_type": "code",
   "execution_count": 16,
   "metadata": {},
   "outputs": [],
   "source": [
    "graph = nx.Graph()\n",
    "graph = groups2graph(graph, df)"
   ]
  },
  {
   "cell_type": "code",
   "execution_count": 17,
   "metadata": {},
   "outputs": [
    {
     "name": "stdout",
     "output_type": "stream",
     "text": [
      "Name: \n",
      "Type: Graph\n",
      "Number of nodes: 4939\n",
      "Number of edges: 219135\n",
      "Average degree:  88.7366\n"
     ]
    }
   ],
   "source": [
    "print(nx.info(graph))"
   ]
  },
  {
   "cell_type": "code",
   "execution_count": 18,
   "metadata": {},
   "outputs": [],
   "source": [
    "nx.write_gml(graph, \"graph.gml\")"
   ]
  },
  {
   "cell_type": "code",
   "execution_count": 19,
   "metadata": {},
   "outputs": [],
   "source": [
    "graph = nx.read_gml(\"graph.gml\")"
   ]
  },
  {
   "cell_type": "code",
   "execution_count": 20,
   "metadata": {},
   "outputs": [
    {
     "name": "stdout",
     "output_type": "stream",
     "text": [
      "Количество узлов: 4939\n",
      "Количество ребер: 219135\n",
      "Количество связных компонентов:  6\n"
     ]
    }
   ],
   "source": [
    "n = graph.number_of_nodes () \n",
    "m = graph.number_of_edges () \n",
    "print (\"Количество узлов:\", str (n)) \n",
    "print (\"Количество ребер:\", str (m)) \n",
    "print (\"Количество связных компонентов: \", str(nx.number_connected_components (graph)))"
   ]
  },
  {
   "cell_type": "code",
   "execution_count": 21,
   "metadata": {},
   "outputs": [
    {
     "data": {
      "image/png": "[encoded data removed]",
      "text/plain": [
       "<Figure size 432x288 with 1 Axes>"
      ]
     },
     "metadata": {},
     "output_type": "display_data"
    }
   ],
   "source": [
    "# plt.figure (figsize = (12,8)) \n",
    "nx.draw (graph)"
   ]
  },
  {
   "cell_type": "code",
   "execution_count": 26,
   "metadata": {
    "scrolled": true
   },
   "outputs": [
    {
     "name": "stderr",
     "output_type": "stream",
     "text": [
      "Computing transition probabilities: 100%|██████████| 4939/4939 [14:41<00:00,  5.60it/s]  \n",
      "Generating walks (CPU: 1):   0%|          | 0/2 [00:00<?, ?it/s]\n",
      "Generating walks (CPU: 2):   0%|          | 0/2 [00:00<?, ?it/s]\u001b[A\n",
      "\n",
      "Generating walks (CPU: 3):   0%|          | 0/2 [00:00<?, ?it/s]\u001b[A\u001b[A\n",
      "\n",
      "\n",
      "Generating walks (CPU: 4):   0%|          | 0/2 [00:00<?, ?it/s]\u001b[A\u001b[A\u001b[A\n",
      "\n",
      "\n",
      "\n",
      "Generating walks (CPU: 5):   0%|          | 0/2 [00:00<?, ?it/s]\u001b[A\u001b[A\u001b[A\u001b[A\n",
      "\n",
      "\n",
      "\n",
      "\n",
      "Generating walks (CPU: 6):   0%|          | 0/1 [00:00<?, ?it/s]\u001b[A\u001b[A\u001b[A\u001b[A\u001b[A\n",
      "\n",
      "\n",
      "\n",
      "\n",
      "\n",
      "Generating walks (CPU: 7):   0%|          | 0/1 [00:00<?, ?it/s]\u001b[A\u001b[A\u001b[A\u001b[A\u001b[A\u001b[A\n",
      "\n",
      "\n",
      "\n",
      "\n",
      "\n",
      "\n",
      "Generating walks (CPU: 8):   0%|          | 0/1 [00:00<?, ?it/s]\u001b[A\u001b[A\u001b[A\u001b[A\u001b[A\u001b[A\u001b[A\n",
      "\n",
      "\n",
      "\n",
      "\n",
      "\n",
      "\n",
      "\n",
      "Generating walks (CPU: 9):   0%|          | 0/1 [00:00<?, ?it/s]\u001b[A\u001b[A\u001b[A\u001b[A\u001b[A\u001b[A\u001b[A\u001b[A\n",
      "\n",
      "\n",
      "\n",
      "\n",
      "\n",
      "\n",
      "\n",
      "\n",
      "Generating walks (CPU: 10): 100%|██████████| 1/1 [46:12<00:00, 2772.99s/it][A\u001b[A\u001b[A\u001b[A\u001b[A\u001b[A\n",
      "\n",
      "\n",
      "\n",
      "Generating walks (CPU: 6): 100%|██████████| 1/1 [46:15<00:00, 2775.82s/it]\u001b[A\u001b[A\u001b[A\n",
      "Generating walks (CPU: 7): 100%|██████████| 1/1 [46:15<00:00, 2775.81s/it]\n",
      "\n",
      "\n",
      "Generating walks (CPU: 9): 100%|██████████| 1/1 [46:15<00:00, 2775.92s/it]\u001b[A\u001b[A\n",
      "Generating walks (CPU: 8): 100%|██████████| 1/1 [46:15<00:00, 2776.00s/it]\n",
      "\n",
      "Generating walks (CPU: 2): 100%|██████████| 2/2 [46:16<00:00, 1388.27s/it]\u001b[A\n",
      "\n",
      "\n",
      "\n",
      "Generating walks (CPU: 4): 100%|██████████| 2/2 [1:09:30<00:00, 2085.08s/it]A\u001b[A\u001b[A\u001b[A\n",
      "Generating walks (CPU: 2): 100%|██████████| 2/2 [1:09:30<00:00, 2085.25s/it]\n",
      "Generating walks (CPU: 3): 100%|██████████| 2/2 [1:09:31<00:00, 2085.65s/it]\n",
      "Generating walks (CPU: 1): 100%|██████████| 2/2 [1:09:31<00:00, 2085.80s/it]\n",
      "Generating walks (CPU: 5): 100%|██████████| 2/2 [1:09:31<00:00, 2085.77s/it]\n"
     ]
    },
    {
     "data": {
      "text/plain": [
       "array([-1.2613622e+00,  1.9720637e+00,  9.8563731e-01, -2.1005514e+00,\n",
       "        1.7339121e+00, -1.2472388e+00,  7.4504036e-01, -3.4124587e+00,\n",
       "       -1.4533042e+00,  1.3651248e+00,  1.2182351e+00,  2.4138092e-01,\n",
       "       -2.0165861e+00, -5.0300229e-01, -4.7224513e-01, -3.5759643e-01,\n",
       "       -3.4008661e-01,  5.8827305e-01,  5.6133270e-01, -1.2096366e+00,\n",
       "        6.2561548e-01, -1.7835802e+00,  1.9389797e+00, -3.7500152e-01,\n",
       "        6.3820255e-01, -1.6764810e+00, -1.1489827e-01,  3.9271301e-01,\n",
       "       -1.1775810e+00, -1.8890214e+00,  5.2484888e-01,  2.5770110e-01,\n",
       "        3.1071112e-01,  3.0396378e-01,  8.9782399e-01,  4.1151327e-01,\n",
       "        6.9107074e-01, -1.1149603e+00, -2.5734571e-01, -6.8972331e-01,\n",
       "        8.6973822e-01, -1.2545561e+00,  5.9928381e-01,  1.2942177e+00,\n",
       "        2.0175028e+00,  2.3827612e-01,  1.7333436e+00, -3.3084543e+00,\n",
       "        1.2383618e+00,  4.6446154e-01,  7.1472317e-01, -3.1026426e-01,\n",
       "        4.6869576e-01,  1.5250850e+00,  3.6454436e-01,  1.5039432e-03,\n",
       "        5.2428526e-01, -1.4886454e-02, -7.2748333e-01,  2.8250513e+00,\n",
       "        1.8801225e+00, -1.1132066e+00,  1.8107222e-01, -1.2055056e+00,\n",
       "       -1.3585352e+00, -1.7541611e+00,  1.0672524e+00, -1.9063842e+00,\n",
       "        1.0419887e+00, -2.3548110e+00,  2.3391129e-01, -6.4639342e-01,\n",
       "       -9.3150884e-01, -7.8209972e-01,  5.3047162e-01,  9.1663152e-02,\n",
       "        9.3982112e-01, -1.4375333e+00,  9.8187372e-02, -4.1487333e-01,\n",
       "        1.6018726e+00, -1.4187723e+00, -2.0174655e-01, -8.5880929e-01,\n",
       "        5.0038224e-01,  4.1426009e-01, -7.2052583e-02, -3.1653128e+00,\n",
       "        6.1515051e-01, -9.0088539e-02, -1.3869354e+00,  1.6006562e-01,\n",
       "       -1.9428940e-01,  1.6754237e+00,  1.3371778e+00,  1.1386163e-01,\n",
       "        1.6134216e+00,  1.6163099e+00, -4.6634296e-01, -2.6511407e-01],\n",
       "      dtype=float32)"
      ]
     },
     "execution_count": 26,
     "metadata": {},
     "output_type": "execute_result"
    }
   ],
   "source": [
    "node2vec = Node2Vec(graph, dimensions=100, walk_length=80, num_walks=15, workers=10, temp_folder=\"/mnt\")\n",
    "model = node2vec.fit(window=10, min_count=1, batch_words=4)\n",
    "model.wv.get_vector(list(graph.nodes)[0])"
   ]
  },
  {
   "cell_type": "markdown",
   "metadata": {},
   "source": [
    "graph: \n",
    "    Первый позиционный аргумент должен быть графом networkx. \n",
    "    Имена узлов должны быть целыми числами или строками. \n",
    "    На выходной модели они всегда будут строками.\n",
    "    \n",
    "dimensions:\n",
    "    Размеры вложения (по умолчанию: 128)\n",
    "    \n",
    "walk_length: \n",
    "    Количество узлов в каждой прогулке (по умолчанию: 80)\n",
    "    \n",
    "num_walks: \n",
    "    Количество прогулок на узел (по умолчанию: 10)\n",
    "\n",
    "\n",
    "p: Гиперпараметр, показывающий, смещен ли обход в направлении исследования внутрь (по умолчанию: 1)\n",
    "\n",
    "q: Гиперпараметр, оказывающий, смещен ли обход в направлении исследования наружу  (по умолчанию: 1)\n",
    "    \n",
    "    Когда p и q оба равны 1 (по умолчанию), это, по сути, сводится к чисто случайному блужданию    \n",
    "\n",
    "weight_key: \n",
    "    На взвешенных графиках это ключ для атрибута weight (по умолчанию: 'weight')\n",
    "workers: \n",
    "    Количество рабочих для параллельного выполнения (по умолчанию: 1)\n",
    "\n",
    "temp_folder: \n",
    "    Строковый путь, указывающий на папку для сохранения копии графика в общей памяти.\n",
    "    (Предоставляется при работе с графиками, которые слишком велики, \n",
    "     чтобы поместиться в памяти во время выполнения алгоритма.)"
   ]
  },
  {
   "cell_type": "code",
   "execution_count": 22,
   "metadata": {},
   "outputs": [],
   "source": [
    "model.wv.save_word2vec_format(\"saved_model\")"
   ]
  },
  {
   "cell_type": "code",
   "execution_count": null,
   "metadata": {},
   "outputs": [],
   "source": [
    "#Т.к. обучение занимает много времени, загрузим эмбеддинги из файла (использовалось для 65к групп)\n",
    "from gensim.models import KeyedVectors\n",
    "\n",
    "model = KeyedVectors.load_word2vec_format('small_res.emb', binary=False)\n",
    "model.wv.get_vector(\"110082689\")"
   ]
  },
  {
   "cell_type": "code",
   "execution_count": 23,
   "metadata": {
    "scrolled": true
   },
   "outputs": [
    {
     "ename": "NameError",
     "evalue": "name 'model' is not defined",
     "output_type": "error",
     "traceback": [
      "\u001b[0;31m---------------------------------------------------------------------------\u001b[0m",
      "\u001b[0;31mNameError\u001b[0m                                 Traceback (most recent call last)",
      "\u001b[0;32m<ipython-input-23-0601fcdde411>\u001b[0m in \u001b[0;36m<module>\u001b[0;34m\u001b[0m\n\u001b[1;32m      1\u001b[0m \u001b[0;31m#Список наиболее похожих вершин\u001b[0m\u001b[0;34m\u001b[0m\u001b[0;34m\u001b[0m\u001b[0;34m\u001b[0m\u001b[0m\n\u001b[1;32m      2\u001b[0m \u001b[0mnode_id\u001b[0m \u001b[0;34m=\u001b[0m \u001b[0;36m1338\u001b[0m\u001b[0;34m\u001b[0m\u001b[0;34m\u001b[0m\u001b[0m\n\u001b[0;32m----> 3\u001b[0;31m \u001b[0msim_list\u001b[0m \u001b[0;34m=\u001b[0m \u001b[0mmodel\u001b[0m\u001b[0;34m.\u001b[0m\u001b[0mwv\u001b[0m\u001b[0;34m.\u001b[0m\u001b[0mmost_similar\u001b[0m \u001b[0;34m(\u001b[0m\u001b[0mlist\u001b[0m\u001b[0;34m(\u001b[0m\u001b[0mgraph\u001b[0m\u001b[0;34m.\u001b[0m\u001b[0mnodes\u001b[0m\u001b[0;34m)\u001b[0m\u001b[0;34m[\u001b[0m\u001b[0mnode_id\u001b[0m\u001b[0;34m]\u001b[0m\u001b[0;34m)\u001b[0m\u001b[0;34m\u001b[0m\u001b[0;34m\u001b[0m\u001b[0m\n\u001b[0m\u001b[1;32m      4\u001b[0m \u001b[0mzero_name\u001b[0m \u001b[0;34m=\u001b[0m \u001b[0mdf_data\u001b[0m\u001b[0;34m[\u001b[0m\u001b[0mdf_data\u001b[0m\u001b[0;34m[\u001b[0m\u001b[0;34m'ID'\u001b[0m\u001b[0;34m]\u001b[0m\u001b[0;34m==\u001b[0m \u001b[0mlist\u001b[0m\u001b[0;34m(\u001b[0m\u001b[0mgraph\u001b[0m\u001b[0;34m.\u001b[0m\u001b[0mnodes\u001b[0m\u001b[0;34m)\u001b[0m\u001b[0;34m[\u001b[0m\u001b[0mnode_id\u001b[0m\u001b[0;34m]\u001b[0m\u001b[0;34m]\u001b[0m\u001b[0;34m[\u001b[0m\u001b[0;34m'Name'\u001b[0m\u001b[0;34m]\u001b[0m\u001b[0;34m\u001b[0m\u001b[0;34m\u001b[0m\u001b[0m\n\u001b[1;32m      5\u001b[0m \u001b[0mzero_members_count\u001b[0m \u001b[0;34m=\u001b[0m \u001b[0mdf_data\u001b[0m\u001b[0;34m[\u001b[0m\u001b[0mdf_data\u001b[0m\u001b[0;34m[\u001b[0m\u001b[0;34m'ID'\u001b[0m\u001b[0;34m]\u001b[0m\u001b[0;34m==\u001b[0m \u001b[0mlist\u001b[0m\u001b[0;34m(\u001b[0m\u001b[0mgraph\u001b[0m\u001b[0;34m.\u001b[0m\u001b[0mnodes\u001b[0m\u001b[0;34m)\u001b[0m\u001b[0;34m[\u001b[0m\u001b[0mnode_id\u001b[0m\u001b[0;34m]\u001b[0m\u001b[0;34m]\u001b[0m\u001b[0;34m[\u001b[0m\u001b[0;34m'MembersCount'\u001b[0m\u001b[0;34m]\u001b[0m\u001b[0;34m\u001b[0m\u001b[0;34m\u001b[0m\u001b[0m\n",
      "\u001b[0;31mNameError\u001b[0m: name 'model' is not defined"
     ]
    }
   ],
   "source": [
    "#Список наиболее похожих вершин\n",
    "node_id = 1338\n",
    "sim_list = model.wv.most_similar (list(graph.nodes)[node_id])\n",
    "zero_name = df_data[df_data['ID']== list(graph.nodes)[node_id]]['Name']\n",
    "zero_members_count = df_data[df_data['ID']== list(graph.nodes)[node_id]]['MembersCount']\n",
    "print(zero_name.values[0], zero_members_count.values[0])\n",
    "print(\"---\")\n",
    "for sim in sim_list:\n",
    "    name = df_data[df_data['ID']== sim[0]]['Name']\n",
    "    members_count = df_data[df_data['ID']== sim[0]]['MembersCount']\n",
    "    print(name.values[0], sim[1], members_count.values[0])"
   ]
  },
  {
   "cell_type": "code",
   "execution_count": null,
   "metadata": {},
   "outputs": [],
   "source": []
  },
  {
   "cell_type": "code",
   "execution_count": 25,
   "metadata": {},
   "outputs": [
    {
     "name": "stderr",
     "output_type": "stream",
     "text": [
      "Generating edge features: 100%|██████████| 12199330/12199330.0 [06:59<00:00, 29084.67it/s]\n"
     ]
    },
    {
     "ename": "KeyError",
     "evalue": "\"word '('-20301629', '-53313256')' not in vocabulary\"",
     "output_type": "error",
     "traceback": [
      "\u001b[0;31m---------------------------------------------------------------------------\u001b[0m",
      "\u001b[0;31mKeyError\u001b[0m                                  Traceback (most recent call last)",
      "\u001b[0;32m<ipython-input-25-440c5df272f3>\u001b[0m in \u001b[0;36m<module>\u001b[0;34m\u001b[0m\n\u001b[1;32m      7\u001b[0m \u001b[0;34m\u001b[0m\u001b[0m\n\u001b[1;32m      8\u001b[0m \u001b[0medges_kv\u001b[0m \u001b[0;34m=\u001b[0m \u001b[0medges_embs\u001b[0m\u001b[0;34m.\u001b[0m\u001b[0mas_keyed_vectors\u001b[0m\u001b[0;34m(\u001b[0m\u001b[0;34m)\u001b[0m\u001b[0;34m\u001b[0m\u001b[0;34m\u001b[0m\u001b[0m\n\u001b[0;32m----> 9\u001b[0;31m \u001b[0medges_kv\u001b[0m\u001b[0;34m.\u001b[0m\u001b[0mmost_similar\u001b[0m\u001b[0;34m(\u001b[0m\u001b[0mstr\u001b[0m\u001b[0;34m(\u001b[0m\u001b[0;34m(\u001b[0m\u001b[0;34m'-20301629'\u001b[0m\u001b[0;34m,\u001b[0m \u001b[0;34m'-53313256'\u001b[0m\u001b[0;34m)\u001b[0m\u001b[0;34m)\u001b[0m\u001b[0;34m)\u001b[0m\u001b[0;34m\u001b[0m\u001b[0;34m\u001b[0m\u001b[0m\n\u001b[0m",
      "\u001b[0;32m~/msTest/venv_jupyterhab/lib/python3.6/site-packages/gensim/models/keyedvectors.py\u001b[0m in \u001b[0;36mmost_similar\u001b[0;34m(self, positive, negative, topn, restrict_vocab, indexer)\u001b[0m\n\u001b[1;32m    551\u001b[0m                 \u001b[0mmean\u001b[0m\u001b[0;34m.\u001b[0m\u001b[0mappend\u001b[0m\u001b[0;34m(\u001b[0m\u001b[0mweight\u001b[0m \u001b[0;34m*\u001b[0m \u001b[0mword\u001b[0m\u001b[0;34m)\u001b[0m\u001b[0;34m\u001b[0m\u001b[0;34m\u001b[0m\u001b[0m\n\u001b[1;32m    552\u001b[0m             \u001b[0;32melse\u001b[0m\u001b[0;34m:\u001b[0m\u001b[0;34m\u001b[0m\u001b[0;34m\u001b[0m\u001b[0m\n\u001b[0;32m--> 553\u001b[0;31m                 \u001b[0mmean\u001b[0m\u001b[0;34m.\u001b[0m\u001b[0mappend\u001b[0m\u001b[0;34m(\u001b[0m\u001b[0mweight\u001b[0m \u001b[0;34m*\u001b[0m \u001b[0mself\u001b[0m\u001b[0;34m.\u001b[0m\u001b[0mword_vec\u001b[0m\u001b[0;34m(\u001b[0m\u001b[0mword\u001b[0m\u001b[0;34m,\u001b[0m \u001b[0muse_norm\u001b[0m\u001b[0;34m=\u001b[0m\u001b[0;32mTrue\u001b[0m\u001b[0;34m)\u001b[0m\u001b[0;34m)\u001b[0m\u001b[0;34m\u001b[0m\u001b[0;34m\u001b[0m\u001b[0m\n\u001b[0m\u001b[1;32m    554\u001b[0m                 \u001b[0;32mif\u001b[0m \u001b[0mword\u001b[0m \u001b[0;32min\u001b[0m \u001b[0mself\u001b[0m\u001b[0;34m.\u001b[0m\u001b[0mvocab\u001b[0m\u001b[0;34m:\u001b[0m\u001b[0;34m\u001b[0m\u001b[0;34m\u001b[0m\u001b[0m\n\u001b[1;32m    555\u001b[0m                     \u001b[0mall_words\u001b[0m\u001b[0;34m.\u001b[0m\u001b[0madd\u001b[0m\u001b[0;34m(\u001b[0m\u001b[0mself\u001b[0m\u001b[0;34m.\u001b[0m\u001b[0mvocab\u001b[0m\u001b[0;34m[\u001b[0m\u001b[0mword\u001b[0m\u001b[0;34m]\u001b[0m\u001b[0;34m.\u001b[0m\u001b[0mindex\u001b[0m\u001b[0;34m)\u001b[0m\u001b[0;34m\u001b[0m\u001b[0;34m\u001b[0m\u001b[0m\n",
      "\u001b[0;32m~/msTest/venv_jupyterhab/lib/python3.6/site-packages/gensim/models/keyedvectors.py\u001b[0m in \u001b[0;36mword_vec\u001b[0;34m(self, word, use_norm)\u001b[0m\n\u001b[1;32m    466\u001b[0m             \u001b[0;32mreturn\u001b[0m \u001b[0mresult\u001b[0m\u001b[0;34m\u001b[0m\u001b[0;34m\u001b[0m\u001b[0m\n\u001b[1;32m    467\u001b[0m         \u001b[0;32melse\u001b[0m\u001b[0;34m:\u001b[0m\u001b[0;34m\u001b[0m\u001b[0;34m\u001b[0m\u001b[0m\n\u001b[0;32m--> 468\u001b[0;31m             \u001b[0;32mraise\u001b[0m \u001b[0mKeyError\u001b[0m\u001b[0;34m(\u001b[0m\u001b[0;34m\"word '%s' not in vocabulary\"\u001b[0m \u001b[0;34m%\u001b[0m \u001b[0mword\u001b[0m\u001b[0;34m)\u001b[0m\u001b[0;34m\u001b[0m\u001b[0;34m\u001b[0m\u001b[0m\n\u001b[0m\u001b[1;32m    469\u001b[0m \u001b[0;34m\u001b[0m\u001b[0m\n\u001b[1;32m    470\u001b[0m     \u001b[0;32mdef\u001b[0m \u001b[0mget_vector\u001b[0m\u001b[0;34m(\u001b[0m\u001b[0mself\u001b[0m\u001b[0;34m,\u001b[0m \u001b[0mword\u001b[0m\u001b[0;34m)\u001b[0m\u001b[0;34m:\u001b[0m\u001b[0;34m\u001b[0m\u001b[0;34m\u001b[0m\u001b[0m\n",
      "\u001b[0;31mKeyError\u001b[0m: \"word '('-20301629', '-53313256')' not in vocabulary\""
     ]
    }
   ],
   "source": [
    "#Векторизация рёбер\n",
    "from node2vec.edges import HadamardEmbedder\n",
    "edges_embs = HadamardEmbedder(keyed_vectors=model.wv)\n",
    "\n",
    "#Получение наиболее похожих рёбер\n",
    "# edges_kv =edges_embs.as_keyed_vectors () \n",
    "\n",
    "edges_kv = edges_embs.as_keyed_vectors()\n",
    "edges_kv.most_similar(str(('-20301629', '-53313256')))\n"
   ]
  },
  {
   "cell_type": "markdown",
   "metadata": {},
   "source": [
    "# Link Prediction"
   ]
  },
  {
   "cell_type": "code",
   "execution_count": null,
   "metadata": {},
   "outputs": [],
   "source": [
    "# Возьмём случайную выборку ребер \n",
    "edge_subset = random.sample (graph.edges (), int(0.25*graph.number_of_edges())) \n",
    "\n",
    "# удалим некоторые края \n",
    "G_train = graph.copy () \n",
    "G_train.remove_edges_from (edge_subset)"
   ]
  },
  {
   "cell_type": "code",
   "execution_count": null,
   "metadata": {},
   "outputs": [],
   "source": [
    "edge_subset_size = len (list (edge_subset)) \n",
    "print (\"Удалено:\", str (edge_subset_size)) \n",
    "print (\"Осталось:\", str ((m - edge_subset_size)))"
   ]
  },
  {
   "cell_type": "code",
   "execution_count": null,
   "metadata": {},
   "outputs": [],
   "source": [
    "prediction_jaccard = list(nx.jaccard_coefficient(G_train))\n",
    "score, label = zip(*[(s, (u,v) in edge_subset) for (u,v,s) in prediction_jaccard])\n",
    "prediction_jaccard[:10]"
   ]
  },
  {
   "cell_type": "code",
   "execution_count": null,
   "metadata": {},
   "outputs": [],
   "source": [
    "G_train_up = nx.Graph()\n",
    "\n",
    "for el in prediction_jaccard:\n",
    "    G_train_up.add_edge(el[0], el[1],  weight=el[2])\n",
    "len(G_train_up)"
   ]
  },
  {
   "cell_type": "code",
   "execution_count": null,
   "metadata": {},
   "outputs": [],
   "source": [
    "G_train_df = pd.DataFrame(prediction_jaccard, columns=['ID', 'neighbourID', 'edge_weight'])\n",
    "G_train_df"
   ]
  },
  {
   "cell_type": "code",
   "execution_count": null,
   "metadata": {},
   "outputs": [],
   "source": [
    "g = graphistry.edges(G_train_df).bind(source='ID', destination='neighbourID', edge_weight='edge_weight')\n",
    "g.plot()"
   ]
  },
  {
   "cell_type": "code",
   "execution_count": null,
   "metadata": {},
   "outputs": [],
   "source": [
    "prediction_adamic = list(nx.adamic_adar_index(G_train))\n",
    "score, label = zip(*[(s, (u,v) in edge_subset) for (u,v,s) in prediction_adamic])\n",
    "prediction_adamic[:10]"
   ]
  },
  {
   "cell_type": "code",
   "execution_count": null,
   "metadata": {
    "scrolled": true
   },
   "outputs": [],
   "source": [
    "node2vec = Node2Vec(G_train, dimensions=100, walk_length=15, num_walks=15, workers=10, temp_folder=\"/mnt\")\n",
    "model = node2vec.fit(window=10, min_count=1, batch_words=4)\n",
    "model.wv.get_vector(list(G_train.nodes)[0])"
   ]
  },
  {
   "cell_type": "code",
   "execution_count": null,
   "metadata": {},
   "outputs": [],
   "source": [
    "from gensim.models import KeyedVectors\n",
    "\n",
    "model = KeyedVectors.load_word2vec_format('FinalResults/small_res.emb', binary=False) #заменить на обрезанный граф\n",
    "model.wv.get_vector(\"110082689\")"
   ]
  },
  {
   "cell_type": "code",
   "execution_count": null,
   "metadata": {
    "scrolled": true
   },
   "outputs": [],
   "source": [
    "#мы можем получить наиболее похожее ребро, \n",
    "#которое можно использовать для прогнозирования отсутствующих ребер\n",
    "\n",
    "from node2vec.edges import HadamardEmbedder\n",
    "edges_embs = HadamardEmbedder(keyed_vectors=model.wv)\n",
    "\n",
    "edges_kv = edges_embs.as_keyed_vectors()  #получаем все возможные рёбра (осторожно может быть слишком большим)\n",
    "edges_kv.most_similar (str ((list(G_train.nodes)[0], list(G_train.nodes)[5])))  "
   ]
  },
  {
   "cell_type": "code",
   "execution_count": null,
   "metadata": {},
   "outputs": [],
   "source": []
  }
 ],
 "metadata": {
  "kernelspec": {
   "display_name": "Python 3",
   "language": "python",
   "name": "python3"
  },
  "language_info": {
   "codemirror_mode": {
    "name": "ipython",
    "version": 3
   },
   "file_extension": ".py",
   "mimetype": "text/x-python",
   "name": "python",
   "nbconvert_exporter": "python",
   "pygments_lexer": "ipython3",
   "version": "3.6.8"
  }
 },
 "nbformat": 4,
 "nbformat_minor": 2
}
